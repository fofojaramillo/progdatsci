{
 "cells": [
  {
   "cell_type": "markdown",
   "id": "110f7ab6-fa7f-4fed-bdb2-58e00be29257",
   "metadata": {},
   "source": [
    "## Problemas\n",
    "\n",
    "1. Escribe un predicado que verifica si una cadena de caracteres es un dígito.\n",
    "2. Escribe un predicado que verifica si una cadena de caracteres consiste únicamente de dígitos.\n",
    "3. Escribe una función que genere un dígito de forma aleatoria.\n",
    "4. Escribe una función que genera una cadena con $n$ dígitos aleatorios.\n",
    "5. Escribe una función que calcule la distancia de Hamming de dos cadenas de dígitos del mismo tamaño.\n",
    "6. Escribe una función que dada una cadena de dígitos, regresa una cadena igual pero con un dígito cualquiera modificado a otro de forma aleatoria.\n",
    "7. Escribe una función que dada una cadena de dígitos, regresa una cadena igual pero con dos dígitos cualquiera modificados a otros de forma aleatoria.\n",
    "8. Escribe una función que dada una cadena de dígitos, regresa una cadena igual pero con tres dígitos cualquiera modificados a otros de forma aleatoria.\n",
    "9. Escribe una función que dada una cadena de $N$ dígitos, regrese una cadena igual pero con $n$ dígitos cualquiera modificados a otros de forma aleatoria, donde $n \\leq N$."
   ]
  },
  {
   "cell_type": "code",
   "execution_count": 1,
   "id": "2efbf211-53df-4bba-aa1d-7f94dc9529d7",
   "metadata": {},
   "outputs": [],
   "source": [
    "#Escribe un predicado que verifica si una cadena de caracteres es un dígito.\n",
    "def is_digit(chain):\n",
    "    \"\"\"\n",
    "    Valida que chain sea un (y solo un) digito\n",
    "    \"\"\"\n",
    "    return (isinstance(chain,str) \n",
    "            and len(chain) == 1 \n",
    "            and chain in '0123456789')"
   ]
  },
  {
   "cell_type": "code",
   "execution_count": 2,
   "id": "466a5d5e-209d-4946-aebb-526ef8c1c815",
   "metadata": {},
   "outputs": [],
   "source": [
    "assert not is_digit(0)\n",
    "assert is_digit('0')\n",
    "assert not is_digit('10')\n",
    "assert not is_digit('a')"
   ]
  },
  {
   "cell_type": "code",
   "execution_count": 3,
   "id": "cc70b5bd-430a-4c04-b329-23171cb19c82",
   "metadata": {},
   "outputs": [],
   "source": [
    "#Escribe un predicado que verifica si una cadena de caracteres consiste únicamente de dígitos.\n",
    "def just_digits_from(chain, i):\n",
    "    return (\n",
    "        True if len(chain) == i\n",
    "        else is_digit(chain[i]) and just_digits_from(chain, i+1)\n",
    "    )\n",
    "def just_digits(chain):\n",
    "    return just_digits_from(chain, 0)"
   ]
  },
  {
   "cell_type": "code",
   "execution_count": 4,
   "id": "27b12292-cc20-4147-87b4-036144ac259f",
   "metadata": {},
   "outputs": [],
   "source": [
    "assert just_digits(\"0123456789\")\n",
    "assert not just_digits('123x321')\n",
    "assert just_digits('0')\n",
    "assert just_digits('')"
   ]
  },
  {
   "cell_type": "code",
   "execution_count": 8,
   "id": "af5d6ba8-19d3-40b6-9ffc-7749dd7f1a02",
   "metadata": {},
   "outputs": [],
   "source": [
    "#Escribe una función que genere un dígito de forma aleatoria.\n",
    "import random\n",
    "\n",
    "def num_random():\n",
    "    return str(random.randint(0,9))"
   ]
  },
  {
   "cell_type": "code",
   "execution_count": 9,
   "id": "a413b02c-ccf1-4313-b63b-270904df1cc1",
   "metadata": {},
   "outputs": [
    {
     "data": {
      "text/plain": [
       "'4'"
      ]
     },
     "execution_count": 9,
     "metadata": {},
     "output_type": "execute_result"
    }
   ],
   "source": [
    "num_random()"
   ]
  },
  {
   "cell_type": "code",
   "execution_count": 6,
   "id": "6a305348-10f6-4514-93e5-721d9cba3daa",
   "metadata": {},
   "outputs": [],
   "source": [
    "#Escribe una función que genera una cadena con $n$ dígitos aleatorios.\n",
    "\n",
    "def random_chain(n):\n",
    "    if n<0:\n",
    "        return 'No hay cadenas de longitudes negativas bro'\n",
    "    else:\n",
    "        digitos = random.choices('0123456789', k=n)\n",
    "        return ''.join(digitos)"
   ]
  },
  {
   "cell_type": "code",
   "execution_count": 13,
   "id": "3aeb1bc6-5ebe-43e2-9d0b-39b22774a5ee",
   "metadata": {},
   "outputs": [
    {
     "name": "stdout",
     "output_type": "stream",
     "text": [
      "5596710983\n",
      "3928228667\n",
      "0157843668\n",
      "5710445700\n"
     ]
    }
   ],
   "source": [
    "for _ in range(4):\n",
    "    print(random_chain(10))"
   ]
  },
  {
   "cell_type": "code",
   "execution_count": 20,
   "id": "2eb4b30d-7e39-45eb-a828-f55f16045d00",
   "metadata": {},
   "outputs": [],
   "source": [
    "def pre_hamming(chain1, chain2, i):\n",
    "    return (\n",
    "        0 if i == -1\n",
    "        else (chain1[i] != chain2[i]) + pre_hamming(chain1, chain2, i-1)\n",
    "    )\n",
    "\n",
    "def hamming(chain1, chain2):\n",
    "    assert just_digits(chain1) and just_digits(chain2) and len(chain1) == len(chain2), 'Solo cadenas de digitos del mismo tamaño'\n",
    "    return pre_hamming(chain1, chain2, len(chain1)-1)"
   ]
  },
  {
   "cell_type": "code",
   "execution_count": 10,
   "id": "41ad6fa2-932c-479b-85b8-391a137fd74f",
   "metadata": {},
   "outputs": [],
   "source": [
    "#Escribe una función que calcule la distancia de Hamming de dos cadenas de dígitos del mismo tamaño.\n",
    "\n",
    "def hamming(chain1, chain2):\n",
    "    if len(chain1) != len(chain2):\n",
    "        return 'No hay distancia'\n",
    "    else:\n",
    "        differences = map(lambda x,y: x != y, chain1, chain2)\n",
    "        return sum(differences)\n",
    "        \n"
   ]
  },
  {
   "cell_type": "code",
   "execution_count": 21,
   "id": "de0c1b6a-5575-4649-b41e-75b9901ce6e4",
   "metadata": {},
   "outputs": [
    {
     "data": {
      "text/plain": [
       "3"
      ]
     },
     "execution_count": 21,
     "metadata": {},
     "output_type": "execute_result"
    }
   ],
   "source": [
    "hamming('123','456')"
   ]
  },
  {
   "cell_type": "code",
   "execution_count": 12,
   "id": "30881689-945e-45e4-b5dc-1a3de6c2e231",
   "metadata": {},
   "outputs": [],
   "source": [
    "# Escribe una función que dada una cadena de dígitos, regresa una cadena igual pero con \n",
    "# un dígito cualquiera modificado a otro de forma aleatoria.\n",
    "\n",
    "def modify_one(chain):\n",
    "    if not chain.isdigit():\n",
    "        return 'Cadena con solo numeros por favor'\n",
    "    else:\n",
    "        index = random.randint(0,len(chain)-1)\n",
    "        new = random.choice('0123456789'.replace(chain[index],''))\n",
    "        return chain[:index]+new+chain[index+1:]"
   ]
  },
  {
   "cell_type": "code",
   "execution_count": 13,
   "id": "eca576ab-c6a8-4400-81ff-301ac9f56660",
   "metadata": {},
   "outputs": [
    {
     "name": "stdout",
     "output_type": "stream",
     "text": [
      "1000000\n"
     ]
    }
   ],
   "source": [
    "chain = random_chain(10)\n",
    "lista = []\n",
    "for _ in range(1000000):\n",
    "    lista.append(hamming(chain,modify_one(chain)))\n",
    "\n",
    "print(sum(lista))\n"
   ]
  },
  {
   "cell_type": "code",
   "execution_count": 23,
   "id": "381c40c4-af44-48b2-b0bd-c4064336b89c",
   "metadata": {},
   "outputs": [],
   "source": [
    "# Escribe una función que dada una cadena de dígitos, regresa una cadena igual \n",
    "# pero con dos dígitos cualquiera modificados a otros de forma aleatoria.\n",
    "\n",
    "def modify_two(chain):\n",
    "    if len(chain)<2 or not chain.isdigit():\n",
    "        return 'Cadena con solo numeros y más de dos digitos'\n",
    "    else:\n",
    "        ind = random.sample(range(len(chain)), 2)\n",
    "        news = []\n",
    "        news.append(random.choice('0123456789'.replace(chain[ind[0]], '')))\n",
    "        news.append(random.choice('0123456789'.replace(chain[ind[1]], '')))\n",
    "        mod_chain = ''.join(map(\n",
    "            lambda i, c: news[ind.index(i)] if i in ind else c,\n",
    "            range(len(chain)),\n",
    "            chain\n",
    "        ))\n",
    "    \n",
    "    return mod_chain\n",
    "    "
   ]
  },
  {
   "cell_type": "code",
   "execution_count": 24,
   "id": "9a21e8ec-b34f-4980-950c-b3fc5594672a",
   "metadata": {},
   "outputs": [
    {
     "name": "stdout",
     "output_type": "stream",
     "text": [
      "100000.0\n"
     ]
    }
   ],
   "source": [
    "chain = random_chain(2)\n",
    "lista = []\n",
    "for _ in range(100000):\n",
    "    lista.append(hamming(chain,modify_two(chain)))\n",
    "\n",
    "print(sum(lista)/2)"
   ]
  },
  {
   "cell_type": "code",
   "execution_count": 26,
   "id": "c0984f2f-0af3-43f1-8d41-cdf7239060ad",
   "metadata": {},
   "outputs": [],
   "source": [
    "# Escribe una función que dada una cadena de dígitos, regresa una cadena igual \n",
    "# pero con tres dígitos cualquiera modificados a otros de forma aleatoria.\n",
    "\n",
    "def modify_three(chain):\n",
    "    if len(chain)<3 or not chain.isdigit():\n",
    "        return 'Cadena con solo numeros y más de tres digitos'\n",
    "    else:\n",
    "        ind = random.sample(range(len(chain)), 3)\n",
    "        news = []\n",
    "        news.append(random.choice('0123456789'.replace(chain[ind[0]], '')))\n",
    "        news.append(random.choice('0123456789'.replace(chain[ind[1]], '')))\n",
    "        news.append(random.choice('0123456789'.replace(chain[ind[2]], '')))\n",
    "        mod_chain = ''.join(map(\n",
    "            lambda i, c: news[ind.index(i)] if i in ind else c,\n",
    "            range(len(chain)),\n",
    "            chain\n",
    "        ))\n",
    "    \n",
    "    return mod_chain"
   ]
  },
  {
   "cell_type": "code",
   "execution_count": 27,
   "id": "70d1616c-7f6c-4628-b7f8-bff77b37ee55",
   "metadata": {},
   "outputs": [
    {
     "name": "stdout",
     "output_type": "stream",
     "text": [
      "100000.0\n"
     ]
    }
   ],
   "source": [
    "chain = random_chain(10)\n",
    "lista = []\n",
    "for _ in range(100000):\n",
    "    lista.append(hamming(chain,modify_three(chain)))\n",
    "\n",
    "print(sum(lista)/3)"
   ]
  },
  {
   "cell_type": "code",
   "execution_count": 28,
   "id": "2bddd558-0708-4695-b4aa-8b0166beec50",
   "metadata": {},
   "outputs": [],
   "source": [
    "#Escribe una función que dada una cadena de $N$ dígitos, regrese una cadena igual pero con $n$ \n",
    "#dígitos cualquiera modificados a otros de forma aleatoria, donde $n \\leq N$.\n",
    "\n",
    "def modify_n(chain,n):\n",
    "    if len(chain)<n or not chain.isdigit():\n",
    "        return 'Cadena con solo numeros y más de {} digitos'.format(n)\n",
    "    else:\n",
    "        ind = random.sample(range(len(chain)), n)\n",
    "        news = list(map(lambda i: random.choice('0123456789'.replace(chain[i], '')),ind))\n",
    "        mod_chain = ''.join(map(\n",
    "            lambda i, c: news[ind.index(i)] if i in ind else c,\n",
    "            range(len(chain)),\n",
    "            chain\n",
    "        ))\n",
    "    \n",
    "    return mod_chain"
   ]
  },
  {
   "cell_type": "code",
   "execution_count": 130,
   "id": "1a9e80fe-5834-4303-924c-f8972377c8af",
   "metadata": {},
   "outputs": [
    {
     "name": "stdout",
     "output_type": "stream",
     "text": [
      "1000000.0\n"
     ]
    }
   ],
   "source": [
    "chain = random_chain(10)\n",
    "lista = []\n",
    "n=5\n",
    "for _ in range(1000000):\n",
    "    lista.append(hamming(chain,modify_n(chain,n)))\n",
    "\n",
    "print(sum(lista)/n)"
   ]
  },
  {
   "cell_type": "code",
   "execution_count": null,
   "id": "b6d162ef-87be-44ee-ab38-1b40610e038c",
   "metadata": {},
   "outputs": [],
   "source": []
  }
 ],
 "metadata": {
  "kernelspec": {
   "display_name": "Python 3 (ipykernel)",
   "language": "python",
   "name": "python3"
  },
  "language_info": {
   "codemirror_mode": {
    "name": "ipython",
    "version": 3
   },
   "file_extension": ".py",
   "mimetype": "text/x-python",
   "name": "python",
   "nbconvert_exporter": "python",
   "pygments_lexer": "ipython3",
   "version": "3.11.0"
  }
 },
 "nbformat": 4,
 "nbformat_minor": 5
}
