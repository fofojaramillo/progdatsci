{
 "cells": [
  {
   "cell_type": "code",
   "execution_count": null,
   "id": "6d419f76-3111-4c05-83e3-6a2677fc46df",
   "metadata": {},
   "outputs": [],
   "source": [
    "def generate_neighboring_trajectories(trajectory, num_neighbors=100):\n",
    "    def calculate_standard_deviation(trajectory):\n",
    "        points_x, points_y = zip(*trajectory)\n",
    "        std_dev_x = np.std(points_x)\n",
    "        std_dev_y = np.std(points_y)\n",
    "        standard_deviation = (std_dev_x, std_dev_y)\n",
    "        return standard_deviation\n",
    "\n",
    "    standard_deviation = calculate_standard_deviation(trajectory)\n",
    "    neighboring_trajectories = []\n",
    "\n",
    "    for _ in range(num_neighbors):\n",
    "        neighboring_trajectory = []\n",
    "\n",
    "        for point in trajectory:\n",
    "            displacement_x = np.random.normal(0, standard_deviation[0])\n",
    "            displacement_y = np.random.normal(0, standard_deviation[1])\n",
    "\n",
    "            neighbor_point = (point[0] + displacement_x, point[1] + displacement_y)\n",
    "            neighboring_trajectory.append(neighbor_point)\n",
    "\n",
    "        neighboring_trajectories.append(neighboring_trajectory)\n",
    "\n",
    "    return neighboring_trajectories"
   ]
  },
  {
   "cell_type": "code",
   "execution_count": null,
   "id": "6a8ec78d-cb9b-481f-913e-1fccd0d2bc76",
   "metadata": {},
   "outputs": [],
   "source": [
    "def test_random_trajectories(particula,repeats = 1000):\n",
    "\n",
    "    traject = best_random_trajectories(\n",
    "        repeats, particula\n",
    "    )\n",
    "    print('El valor de la acción de esta trayectoria es:', particula.calculate_action(traject))\n",
    "    plt.scatter(*zip(*traject))\n",
    "    plt.show()\n",
    "\n",
    "\n",
    "\n",
    "def test_hillclimbing(particula,repeats = 10000):\n",
    "\n",
    "    traject = solve_hillclimbing(\n",
    "        repeats, particula\n",
    "    )\n",
    "    print('El valor de la acción de esta trayectoria es:', particula.calculate_action(traject))\n",
    "    plt.scatter(*zip(*traject))\n",
    "    plt.show()"
   ]
  }
 ],
 "metadata": {
  "kernelspec": {
   "display_name": "Python 3 (ipykernel)",
   "language": "python",
   "name": "python3"
  },
  "language_info": {
   "codemirror_mode": {
    "name": "ipython",
    "version": 3
   },
   "file_extension": ".py",
   "mimetype": "text/x-python",
   "name": "python",
   "nbconvert_exporter": "python",
   "pygments_lexer": "ipython3",
   "version": "3.11.0"
  }
 },
 "nbformat": 4,
 "nbformat_minor": 5
}
