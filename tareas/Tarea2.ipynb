{
 "cells": [
  {
   "cell_type": "markdown",
   "id": "eda76538-ce08-449d-95fb-ca04a177ec36",
   "metadata": {},
   "source": [
    "# Problema\n",
    "\n",
    "Escribe un programa con quién jugar [al gato](https://es.wikipedia.org/wiki/Tres_en_l%C3%ADnea).\n",
    "Puedes representar el estado del juego con una lista con valores que codifican las marcas: 0 para casillas vacías, 1 para las cruces, 2 para los círculos.\n",
    "Puedes recibir la jugada desde el teclado usando `input`."
   ]
  },
  {
   "cell_type": "code",
   "execution_count": 1,
   "id": "9e865b0f-585b-445c-ad44-67e2e878c404",
   "metadata": {},
   "outputs": [],
   "source": [
    "import random"
   ]
  },
  {
   "cell_type": "code",
   "execution_count": 2,
   "id": "90564a71-6600-47aa-b58b-13ec489184ae",
   "metadata": {},
   "outputs": [],
   "source": [
    "def cell_char(x):\n",
    "    if x == 1:\n",
    "        return \"x\"\n",
    "    if x == 2:\n",
    "        return \"o\"\n",
    "    return \" \"\n",
    "\n",
    "def print_state(s):\n",
    "    c = [cell_char(x) for x in s]\n",
    "    print(\" ┏━━━┯━━━┯━━━┓\")\n",
    "    print(\" ┃ {} │ {} │ {} ┃\".format(c[0], c[1], c[2]))\n",
    "    print(\" ┠───┼───┼───┨\")\n",
    "    print(\" ┃ {} │ {} │ {} ┃\".format(c[3], c[4], c[5]))\n",
    "    print(\" ┠───┼───┼───┨\")\n",
    "    print(\" ┃ {} │ {} │ {} ┃\".format(c[6], c[7], c[8]))\n",
    "    print(\" ┗━━━┷━━━┷━━━┛\")"
   ]
  },
  {
   "cell_type": "code",
   "execution_count": 3,
   "id": "6eaf03e7-8384-4ec2-bfca-28d370717863",
   "metadata": {},
   "outputs": [
    {
     "name": "stdout",
     "output_type": "stream",
     "text": [
      " ┏━━━┯━━━┯━━━┓\n",
      " ┃   │   │   ┃\n",
      " ┠───┼───┼───┨\n",
      " ┃   │   │   ┃\n",
      " ┠───┼───┼───┨\n",
      " ┃   │   │   ┃\n",
      " ┗━━━┷━━━┷━━━┛\n"
     ]
    }
   ],
   "source": [
    "print_state([0, 0, 0, 0, 0, 0, 0, 0, 0])"
   ]
  },
  {
   "cell_type": "code",
   "execution_count": 4,
   "id": "4e09fb2a-fa65-45ee-b8e7-dde573826482",
   "metadata": {},
   "outputs": [],
   "source": [
    "def init_state():\n",
    "    init = [0]*9\n",
    "    return init"
   ]
  },
  {
   "cell_type": "code",
   "execution_count": 5,
   "id": "88b24ad9-9321-43f5-b521-60e9b1ac5b74",
   "metadata": {},
   "outputs": [],
   "source": [
    "def is_final_state(s):\n",
    "    #Lineas horizontales\n",
    "    for i in [0,3,6]:\n",
    "        if all([s[i], s[i+1], s[i+2]]) and (s[i]==s[i+1] and s[i+1]==s[i+2]):\n",
    "            return True\n",
    "    #Lineas verticales\n",
    "    for i in [0,1,2]:\n",
    "        if all([s[i], s[i+3], s[i+6]]) and (s[i]==s[i+3] and s[i+3]==s[i+6]):\n",
    "            return True\n",
    "    #Diagonal 1\n",
    "    if  all([s[0], s[4], s[8]]) and (s[0]==s[4] and s[4]==s[8]):\n",
    "        return True\n",
    "    if all([s[2], s[4], s[6]]) and (s[2]==s[4] and s[4]==s[6]):\n",
    "        return True\n",
    "    if not any(i==0 for i in s):\n",
    "        print('Empate')\n",
    "    else:\n",
    "        False"
   ]
  },
  {
   "cell_type": "code",
   "execution_count": 6,
   "id": "8c31ea40-52e8-4cbd-ac71-055376068c07",
   "metadata": {},
   "outputs": [],
   "source": [
    "def ask_action(s):\n",
    "    pos = {\n",
    "        'Q': 0,\n",
    "        'W': 1,\n",
    "        'E': 2,\n",
    "        'A': 3,\n",
    "        'S': 4,\n",
    "        'D': 5,\n",
    "        'Z': 6,\n",
    "        'X': 7,\n",
    "        'C': 8\n",
    "    }\n",
    "    cell = input('Donde quieres trazar: ')\n",
    "    return pos[cell] if s[pos[cell]] == 0 else ask_action(s)"
   ]
  },
  {
   "cell_type": "code",
   "execution_count": 7,
   "id": "0edbebd8-6229-4846-90dc-7af6df4ecf9a",
   "metadata": {},
   "outputs": [],
   "source": [
    "def choose_action(s):\n",
    "    index = [i for i, num in enumerate(s) if num == 0]\n",
    "    return random.choice(index)"
   ]
  },
  {
   "cell_type": "code",
   "execution_count": 8,
   "id": "636a101c-3d2f-490c-a332-afcdbdc85701",
   "metadata": {},
   "outputs": [],
   "source": [
    "def next_player(player):\n",
    "    return 2 if player == 1 else 1"
   ]
  },
  {
   "cell_type": "code",
   "execution_count": 9,
   "id": "0ff81b63-6d17-4d8b-a0ca-67b27113f40c",
   "metadata": {},
   "outputs": [],
   "source": [
    "def next_state(s, m, player):\n",
    "    s[m] = player\n",
    "    return s"
   ]
  },
  {
   "cell_type": "code",
   "execution_count": 10,
   "id": "c0a48baf-c18a-47e4-a916-35a916fe6f83",
   "metadata": {},
   "outputs": [],
   "source": [
    "def report_game(s, player):\n",
    "    print_state(s)\n",
    "    print('Jugador', player, 'ganó')"
   ]
  },
  {
   "cell_type": "code",
   "execution_count": null,
   "id": "b1fd668e-0a15-4cc4-a2df-73682dfd2418",
   "metadata": {},
   "outputs": [],
   "source": [
    "def tic_tac_toe():\n",
    "    s = init_state()\n",
    "    print(\"EL GATO™\")\n",
    "    player = 1\n",
    "    while not is_final_state(s):\n",
    "        print_state(s)\n",
    "        m = ask_action(s) if player == 1 else choose_action(s)\n",
    "        s = next_state(s, m, player)\n",
    "        player = next_player(player)\n",
    "    print_state(s)\n",
    "    player = next_player(player)\n",
    "    report_game(s,player)"
   ]
  }
 ],
 "metadata": {
  "kernelspec": {
   "display_name": "Python 3 (ipykernel)",
   "language": "python",
   "name": "python3"
  },
  "language_info": {
   "codemirror_mode": {
    "name": "ipython",
    "version": 3
   },
   "file_extension": ".py",
   "mimetype": "text/x-python",
   "name": "python",
   "nbconvert_exporter": "python",
   "pygments_lexer": "ipython3",
   "version": "3.11.0"
  }
 },
 "nbformat": 4,
 "nbformat_minor": 5
}
