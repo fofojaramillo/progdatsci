{
 "cells": [
  {
   "cell_type": "markdown",
   "id": "2177f6a7-f945-4cab-b779-41058b435f42",
   "metadata": {},
   "source": [
    "1. Escribe una breve descripción del propósito de las bibliotecas de Python: `numpy`, `pandas`, `matplotlib`, `seaborn`, `scipy` y `requests`."
   ]
  },
  {
   "cell_type": "code",
   "execution_count": 14,
   "id": "afb8530d-c320-4e38-a175-e561cbcba7b3",
   "metadata": {},
   "outputs": [],
   "source": [
    "import numpy"
   ]
  },
  {
   "cell_type": "markdown",
   "id": "c162df77-ed8f-47e9-914c-9781b043bf98",
   "metadata": {},
   "source": [
    "Modulo hecho para la computación númerica en Python. Soporta matrices y operaciones matematicas de algo rendimiento para realizar calculos complejos de manera eficiente."
   ]
  },
  {
   "cell_type": "code",
   "execution_count": 15,
   "id": "e226a082-a75a-4520-a0d1-59b31693e882",
   "metadata": {},
   "outputs": [],
   "source": [
    "import pandas"
   ]
  },
  {
   "cell_type": "markdown",
   "id": "31228a79-91bd-408b-822d-8f07c38e128a",
   "metadata": {},
   "source": [
    "Modulo con herramientas para el analisis de datos tabulares y su manipulación. Tiene los objetos Series y Dataframe, que permiten organizar, limpiar y transformar datos."
   ]
  },
  {
   "cell_type": "code",
   "execution_count": 16,
   "id": "68db20f3-1482-4366-b44b-ceb0e35d393c",
   "metadata": {},
   "outputs": [],
   "source": [
    "import matplotlib"
   ]
  },
  {
   "cell_type": "markdown",
   "id": "1d8198b2-5ae7-4ffe-a389-9dc5d7bd9cb6",
   "metadata": {},
   "source": [
    "Modulo que permite la graficación en 2D par visualizar datos. Contiene una gran variedad de opciones de personalización y estilos gráficos."
   ]
  },
  {
   "cell_type": "code",
   "execution_count": 17,
   "id": "82c35ae6-a474-406e-b458-c9942a4a8dae",
   "metadata": {},
   "outputs": [],
   "source": [
    "import seaborn"
   ]
  },
  {
   "cell_type": "markdown",
   "id": "fd68bf78-3df2-4a11-a59e-0c12d8318ee0",
   "metadata": {},
   "source": [
    "Basado en matplotlib, este modulo permite crear gráficas con un enfoque de visualización estadistica. Ofrece funciones para creación rápida de diagramas de que se usan en estadistica, como diagramas de caja y de dispersión."
   ]
  },
  {
   "cell_type": "code",
   "execution_count": 18,
   "id": "f8962f11-4b09-4807-ac1a-d5c7a2f00bb3",
   "metadata": {},
   "outputs": [],
   "source": [
    "import scipy"
   ]
  },
  {
   "cell_type": "markdown",
   "id": "89bf8ade-29eb-4c71-b9eb-e4cbc25679bc",
   "metadata": {},
   "source": [
    "Para ir más allá de NumPy, este modulo incluye herramientas para realizar tareas de ciencia e ingenieria, cómo la optimización, estadistica, procesamiento de señales, etc."
   ]
  },
  {
   "cell_type": "code",
   "execution_count": 19,
   "id": "89d69bf8-015a-448c-a264-bb88abcb6658",
   "metadata": {},
   "outputs": [],
   "source": [
    "import requests"
   ]
  },
  {
   "cell_type": "markdown",
   "id": "21ac9e3f-8871-4cce-8ec2-6c41c0d0411a",
   "metadata": {},
   "source": [
    "Este modulo permite trabajar con peticiones HTTP, permitiendo interactuar con servidores webs haciendo solicitudes y recibiendo respuestas, escencial para trabajar con APIs para obtener datos en forma de archivos JSON, HTML, etc."
   ]
  },
  {
   "cell_type": "markdown",
   "id": "2aa8d7bb-58b6-4b7a-a71f-c1ac0fa79f57",
   "metadata": {},
   "source": [
    "2. Busca en internet un proyecto de Git desarrollado en Python que te resulte interesante, clónalo junto al (pero no dentro del) repositorio de la clase. Responde brevemente ¿Por qué elegiste este repositorio particular?"
   ]
  },
  {
   "cell_type": "code",
   "execution_count": null,
   "id": "3b81b57f-7e61-4006-9c93-077a16885435",
   "metadata": {},
   "outputs": [],
   "source": [
    "! git clone https://github.com/joke2k/faker"
   ]
  },
  {
   "cell_type": "markdown",
   "id": "1169f273-cc8b-4299-bcd5-aaff844960f0",
   "metadata": {},
   "source": [
    "El repositorio Faker en su README empieza con la siguiente descripción.\n",
    ">Faker is a Python package that generates fake data for you. Whether you need to bootstrap your database, create good-looking XML documents, fill-in your persistence to stress test it, or anonymize data taken from a production service, Faker is for you.\r\n",
    ">\r\n",
    "Faker is heavily inspired by PHP Faker, Perl Faker, and by Ruby Faker.Me interesa este proyecto ya que es muy útil para rellenar bases de datos de prueba. En general en el desarrollo de cualquier actividad que involucre tener a disposición una colección de información ficticia.\r\n",
    "\r\n"
   ]
  },
  {
   "cell_type": "code",
   "execution_count": null,
   "id": "bbd2b12a-db9c-45b4-a0af-2a537594210d",
   "metadata": {},
   "outputs": [],
   "source": []
  }
 ],
 "metadata": {
  "kernelspec": {
   "display_name": "Python 3 (ipykernel)",
   "language": "python",
   "name": "python3"
  },
  "language_info": {
   "codemirror_mode": {
    "name": "ipython",
    "version": 3
   },
   "file_extension": ".py",
   "mimetype": "text/x-python",
   "name": "python",
   "nbconvert_exporter": "python",
   "pygments_lexer": "ipython3",
   "version": "3.11.0"
  }
 },
 "nbformat": 4,
 "nbformat_minor": 5
}
